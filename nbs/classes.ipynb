{
 "cells": [
  {
   "cell_type": "markdown",
   "metadata": {},
   "source": [
    "# classes\n",
    "\n",
    "> Fill in a module description here"
   ]
  },
  {
   "cell_type": "code",
   "execution_count": null,
   "metadata": {},
   "outputs": [],
   "source": [
    "#| default_exp classes"
   ]
  },
  {
   "cell_type": "code",
   "execution_count": null,
   "metadata": {},
   "outputs": [],
   "source": [
    "#| hide\n",
    "from nbdev.showdoc import *\n",
    "import nbdev; nbdev.nbdev_export()"
   ]
  },
  {
   "cell_type": "code",
   "execution_count": null,
   "metadata": {},
   "outputs": [],
   "source": [
    "\n",
    "#| export\n",
    "import pandas as pd\n",
    "import seaborn as sns\n",
    "import matplotlib.pyplot as plt\n",
    "from matplotlib.gridspec import GridSpec\n",
    "import scipy \n",
    "from scipy import stats\n",
    "import numpy as np\n",
    "from matplotlib.patches import Ellipse\n",
    "import matplotlib.transforms as transforms\n",
    "import io\n",
    "import sklearn\n",
    "import os\n",
    "import matplotlib.patches as patches\n",
    "from sklearn.preprocessing import StandardScaler\n",
    "from sklearn.cluster import KMeans\n",
    "from sklearn.decomposition import PCA, FactorAnalysis\n",
    "import holopheno\n"
   ]
  },
  {
   "cell_type": "code",
   "execution_count": null,
   "metadata": {},
   "outputs": [],
   "source": [
    "#| export\n",
    "class HoloPheno(object):\n",
    "    \n",
    "    \"\"\"\n",
    "    Class for visualizing behavior data in reduced dimensions.\n",
    "    \"\"\"\n",
    "\n",
    "    def __init__(self, data, X = None, Y = None):\n",
    "        \"\"\"\n",
    "\n",
    "        Reads and stores information from \n",
    "\n",
    "        Parameters\n",
    "\n",
    "        -------\n",
    "        \n",
    "\n",
    "        Returns\n",
    "        -------\n",
    "        \n",
    "        \"\"\"\n",
    "        import pandas as pd\n",
    "        from holopheno.plot_tools import scale_with_columns\n",
    "        self.data_in = data.dropna().reset_index(drop = True).copy()\n",
    "        self.X = X\n",
    "        self.Y = Y\n",
    "        self.summarize() \n",
    "        self.scaled_data = pd.concat([self.data_in[X], scale_with_columns(self.data_in[Y])], axis = 1)\n",
    "        \n",
    "    def summarize(self):\n",
    "\n",
    "        self.summary = {}\n",
    "        self.summary['sample_size'] = len(self.data_in)\n",
    "        if self.X:\n",
    "            for x in self.X:\n",
    "                self.summary['unique ' + x + ' values'] = self.data_in[x].unique()\n",
    "        print('Data info: \\n')\n",
    "        for i, (k, v) in enumerate(self.summary.items()):\n",
    "            print(k,  v)\n",
    "        \n",
    "    def scatter(self, x, y, group_by, type = 'raw'):\n",
    "        from holopheno.plot_tools import scatter_with_ellipse\n",
    "        if type == 'raw':\n",
    "            data = self.data_in\n",
    "        elif type == 'scaled':\n",
    "            data = self.scaled_data\n",
    "        f =  scatter_with_ellipse(data, x, y, group_by)\n",
    "        \n",
    "    def scatter_3d(self, metrics, color_by, palette = None, type = 'raw'):\n",
    "        from holopheno.plot_tools import plot_3d_scatter\n",
    "        if type == 'raw':\n",
    "            data = self.data_in\n",
    "        elif type == 'scaled':\n",
    "            data = self.scaled_data\n",
    "        plot_3d_scatter(data, metrics, color_by, palette)\n",
    "        "
   ]
  },
  {
   "cell_type": "code",
   "execution_count": null,
   "metadata": {},
   "outputs": [],
   "source": []
  }
 ],
 "metadata": {
  "kernelspec": {
   "display_name": "python3",
   "language": "python",
   "name": "python3"
  }
 },
 "nbformat": 4,
 "nbformat_minor": 4
}
