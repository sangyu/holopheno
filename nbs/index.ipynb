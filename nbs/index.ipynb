{
 "cells": [
  {
   "cell_type": "code",
   "execution_count": null,
   "metadata": {},
   "outputs": [],
   "source": [
    "#| hide\n",
    "from nbdev.showdoc import *\n"
   ]
  },
  {
   "cell_type": "markdown",
   "metadata": {},
   "source": [
    "# holopheno\n",
    "\n",
    "> a dimension-reduction and visualizing tool that works with a pandas dataframe as an input \n",
    "\n",
    "- order: 1"
   ]
  },
  {
   "cell_type": "markdown",
   "metadata": {},
   "source": [
    "## Install"
   ]
  },
  {
   "cell_type": "markdown",
   "metadata": {},
   "source": [
    "```sh\n",
    "pip install holopheno\n",
    "```"
   ]
  },
  {
   "cell_type": "markdown",
   "metadata": {},
   "source": [
    "## How to use"
   ]
  },
  {
   "cell_type": "code",
   "execution_count": null,
   "metadata": {},
   "outputs": [],
   "source": [
    "import holopheno\n",
    "import pandas as pd\n",
    "from palmerpenguins import load_penguins\n",
    "%matplotlib inline\n",
    "\n",
    "penguins = load_penguins()"
   ]
  },
  {
   "cell_type": "markdown",
   "metadata": {},
   "source": [
    "### You can use holopheno to easily visualize scatters of individual data points in the chosen dimensions \n",
    "To do that, you need to first tell indicate which are the independent variable columns and which are the dependent variable columns in the dataframe"
   ]
  },
  {
   "cell_type": "code",
   "execution_count": null,
   "metadata": {},
   "outputs": [],
   "source": [
    "x_columns = ['species', 'island', 'sex']\n",
    "y_columns = [\n",
    "                    'bill_length_mm', \n",
    "                   'bill_depth_mm', \n",
    "                   'bill_depth_mm', \n",
    "                   'body_mass_g', \n",
    "                  ]"
   ]
  },
  {
   "cell_type": "markdown",
   "metadata": {},
   "source": [
    "### ```.read_data()``` constructs a holophno object and gives you some basic info about the data"
   ]
  },
  {
   "cell_type": "code",
   "execution_count": null,
   "metadata": {},
   "outputs": [
    {
     "name": "stdout",
     "output_type": "stream",
     "text": [
      "Data info: \n",
      "\n",
      "sample_size 333\n",
      "unique species values ['Adelie' 'Gentoo' 'Chinstrap']\n",
      "unique island values ['Torgersen' 'Biscoe' 'Dream']\n",
      "unique sex values ['male' 'female']\n"
     ]
    }
   ],
   "source": [
    "\n",
    "penguins_h = holopheno.read_data(penguins, x = x_columns, y = y_columns)\n",
    "\n",
    "\n"
   ]
  }
 ],
 "metadata": {
  "kernelspec": {
   "display_name": "python3",
   "language": "python",
   "name": "python3"
  }
 },
 "nbformat": 4,
 "nbformat_minor": 4
}
